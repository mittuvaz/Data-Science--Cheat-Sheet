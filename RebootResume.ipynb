{
  "nbformat": 4,
  "nbformat_minor": 0,
  "metadata": {
    "colab": {
      "provenance": [],
      "authorship_tag": "ABX9TyOYn9A0uJtOCoa3zXoMU5Jw",
      "include_colab_link": true
    },
    "kernelspec": {
      "name": "python3",
      "display_name": "Python 3"
    },
    "language_info": {
      "name": "python"
    }
  },
  "cells": [
    {
      "cell_type": "markdown",
      "metadata": {
        "id": "view-in-github",
        "colab_type": "text"
      },
      "source": [
        "<a href=\"https://colab.research.google.com/github/mittuvaz/Data-Science--Cheat-Sheet/blob/master/RebootResume.ipynb\" target=\"_parent\"><img src=\"https://colab.research.google.com/assets/colab-badge.svg\" alt=\"Open In Colab\"/></a>"
      ]
    },
    {
      "cell_type": "markdown",
      "source": [
        "**Reboot Resume**"
      ],
      "metadata": {
        "id": "ANs2uPTUCj7s"
      }
    },
    {
      "cell_type": "code",
      "source": [
        "# prompt: install PyPDF2\n",
        "\n",
        "!pip install PyPDF2\n"
      ],
      "metadata": {
        "colab": {
          "base_uri": "https://localhost:8080/"
        },
        "id": "mDY_lYePEHjS",
        "outputId": "12cffd09-16b7-4c83-f159-37eb3ccf410f"
      },
      "execution_count": null,
      "outputs": [
        {
          "output_type": "stream",
          "name": "stdout",
          "text": [
            "Collecting PyPDF2\n",
            "  Downloading pypdf2-3.0.1-py3-none-any.whl (232 kB)\n",
            "\u001b[?25l     \u001b[90m━━━━━━━━━━━━━━━━━━━━━━━━━━━━━━━━━━━━━━━━\u001b[0m \u001b[32m0.0/232.6 kB\u001b[0m \u001b[31m?\u001b[0m eta \u001b[36m-:--:--\u001b[0m\r\u001b[2K     \u001b[91m━━━━━━━━━━━━━━━━━━━━━━━━━━\u001b[0m\u001b[90m╺\u001b[0m\u001b[90m━━━━━━━━━━━━━\u001b[0m \u001b[32m153.6/232.6 kB\u001b[0m \u001b[31m4.3 MB/s\u001b[0m eta \u001b[36m0:00:01\u001b[0m\r\u001b[2K     \u001b[90m━━━━━━━━━━━━━━━━━━━━━━━━━━━━━━━━━━━━━━━━\u001b[0m \u001b[32m232.6/232.6 kB\u001b[0m \u001b[31m4.5 MB/s\u001b[0m eta \u001b[36m0:00:00\u001b[0m\n",
            "\u001b[?25hInstalling collected packages: PyPDF2\n",
            "Successfully installed PyPDF2-3.0.1\n"
          ]
        }
      ]
    },
    {
      "cell_type": "code",
      "source": [
        "# prompt: open and read pdf files from /content/sample_data/ResumeDataSet\n",
        "\n",
        "import PyPDF2\n",
        "import re\n",
        "import os\n",
        "\n",
        "# Change directory to the specified path\n",
        "os.chdir(\"/content/sample_data/ResumeDataSet\")\n",
        "\n",
        "# Get a list of all files in the directory\n",
        "files = os.listdir()\n",
        "\n",
        "# Iterate through the files and open each PDF file\n",
        "for file in files:\n",
        "    if file.endswith(\".pdf\"):\n",
        "        with open(file, \"rb\") as f:\n",
        "            # Read the PDF file\n",
        "            pdf_reader = PyPDF2.PdfFileReader(f)\n",
        "\n",
        "            # Get the number of pages in the PDF file\n",
        "            num_pages = pdf_reader.getNumPages()\n",
        "\n",
        "            # Iterate through the pages and extract text\n",
        "            for page_num in range(num_pages):\n",
        "                page = pdf_reader.getPage(page_num)\n",
        "                text = page.extractText()\n",
        "\n",
        "                # Print the extracted text\n",
        "                print(text)\n"
      ],
      "metadata": {
        "id": "ZZnkKwFvEsly"
      },
      "execution_count": null,
      "outputs": []
    }
  ]
}